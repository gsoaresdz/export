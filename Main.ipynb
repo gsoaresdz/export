{
 "cells": [
  {
   "attachments": {},
   "cell_type": "markdown",
   "id": "e86f2682",
   "metadata": {},
   "source": [
    "## Detalhamento de Exportação ente Brasil e França"
   ]
  },
  {
   "attachments": {},
   "cell_type": "markdown",
   "id": "993ee9ad",
   "metadata": {},
   "source": [
    "###### Base de dados"
   ]
  },
  {
   "cell_type": "code",
   "execution_count": 1,
   "id": "90e92890",
   "metadata": {},
   "outputs": [
    {
     "data": {
      "text/html": [
       "<div>\n",
       "<style scoped>\n",
       "    .dataframe tbody tr th:only-of-type {\n",
       "        vertical-align: middle;\n",
       "    }\n",
       "\n",
       "    .dataframe tbody tr th {\n",
       "        vertical-align: top;\n",
       "    }\n",
       "\n",
       "    .dataframe thead th {\n",
       "        text-align: right;\n",
       "    }\n",
       "</style>\n",
       "<table border=\"1\" class=\"dataframe\">\n",
       "  <thead>\n",
       "    <tr style=\"text-align: right;\">\n",
       "      <th></th>\n",
       "      <th>Year</th>\n",
       "      <th>Month</th>\n",
       "      <th>Country</th>\n",
       "      <th>City</th>\n",
       "      <th>SH4 Code</th>\n",
       "      <th>SH4 Description</th>\n",
       "      <th>SH2 Code</th>\n",
       "      <th>SH2 Description</th>\n",
       "      <th>Economic Block</th>\n",
       "      <th>US$ FOB</th>\n",
       "      <th>Net Weight</th>\n",
       "    </tr>\n",
       "  </thead>\n",
       "  <tbody>\n",
       "    <tr>\n",
       "      <th>0</th>\n",
       "      <td>2016</td>\n",
       "      <td>1</td>\n",
       "      <td>France</td>\n",
       "      <td>Águas Mornas - SC</td>\n",
       "      <td>303</td>\n",
       "      <td>Fish, frozen, excluding fish fillets and other...</td>\n",
       "      <td>3</td>\n",
       "      <td>Fish and crustaceans, molluscs and other aquat...</td>\n",
       "      <td>Europe</td>\n",
       "      <td>79360</td>\n",
       "      <td>14150</td>\n",
       "    </tr>\n",
       "    <tr>\n",
       "      <th>2</th>\n",
       "      <td>2016</td>\n",
       "      <td>1</td>\n",
       "      <td>France</td>\n",
       "      <td>Águas Mornas - SC</td>\n",
       "      <td>304</td>\n",
       "      <td>Fish fillets and other fish meat (whether or n...</td>\n",
       "      <td>3</td>\n",
       "      <td>Fish and crustaceans, molluscs and other aquat...</td>\n",
       "      <td>Europe</td>\n",
       "      <td>69412</td>\n",
       "      <td>9385</td>\n",
       "    </tr>\n",
       "    <tr>\n",
       "      <th>4</th>\n",
       "      <td>2016</td>\n",
       "      <td>1</td>\n",
       "      <td>France</td>\n",
       "      <td>Alfenas - MG</td>\n",
       "      <td>901</td>\n",
       "      <td>Coffee, whether or not roasted or decaffeinate...</td>\n",
       "      <td>9</td>\n",
       "      <td>Coffee, tea, maté and spices</td>\n",
       "      <td>Europe</td>\n",
       "      <td>180914</td>\n",
       "      <td>57600</td>\n",
       "    </tr>\n",
       "    <tr>\n",
       "      <th>6</th>\n",
       "      <td>2016</td>\n",
       "      <td>1</td>\n",
       "      <td>France</td>\n",
       "      <td>Alta Floresta - MT</td>\n",
       "      <td>4409</td>\n",
       "      <td>Wood (including strips and friezes for parquet...</td>\n",
       "      <td>44</td>\n",
       "      <td>Wood and articles of wood; wood charcoal</td>\n",
       "      <td>Europe</td>\n",
       "      <td>47828</td>\n",
       "      <td>28306</td>\n",
       "    </tr>\n",
       "    <tr>\n",
       "      <th>8</th>\n",
       "      <td>2016</td>\n",
       "      <td>1</td>\n",
       "      <td>France</td>\n",
       "      <td>Ananindeua - PA</td>\n",
       "      <td>1211</td>\n",
       "      <td>Plants and parts of plants (including seeds an...</td>\n",
       "      <td>12</td>\n",
       "      <td>Oil seeds and oleaginous fruits; Grains, Seeds...</td>\n",
       "      <td>Europe</td>\n",
       "      <td>391</td>\n",
       "      <td>22</td>\n",
       "    </tr>\n",
       "    <tr>\n",
       "      <th>...</th>\n",
       "      <td>...</td>\n",
       "      <td>...</td>\n",
       "      <td>...</td>\n",
       "      <td>...</td>\n",
       "      <td>...</td>\n",
       "      <td>...</td>\n",
       "      <td>...</td>\n",
       "      <td>...</td>\n",
       "      <td>...</td>\n",
       "      <td>...</td>\n",
       "      <td>...</td>\n",
       "    </tr>\n",
       "    <tr>\n",
       "      <th>142350</th>\n",
       "      <td>2020</td>\n",
       "      <td>12</td>\n",
       "      <td>France</td>\n",
       "      <td>Vinhedo - SP</td>\n",
       "      <td>4016</td>\n",
       "      <td>Other articles of vulcanised rubber other than...</td>\n",
       "      <td>40</td>\n",
       "      <td>Rubber and articles thereof</td>\n",
       "      <td>Europe</td>\n",
       "      <td>136</td>\n",
       "      <td>0</td>\n",
       "    </tr>\n",
       "    <tr>\n",
       "      <th>142352</th>\n",
       "      <td>2020</td>\n",
       "      <td>12</td>\n",
       "      <td>France</td>\n",
       "      <td>Vinhedo - SP</td>\n",
       "      <td>6806</td>\n",
       "      <td>Slag wool, rock wool and similar mineral wools...</td>\n",
       "      <td>68</td>\n",
       "      <td>Articles of stone, plaster, cement, asbestos, ...</td>\n",
       "      <td>Europe</td>\n",
       "      <td>76</td>\n",
       "      <td>50</td>\n",
       "    </tr>\n",
       "    <tr>\n",
       "      <th>142354</th>\n",
       "      <td>2020</td>\n",
       "      <td>12</td>\n",
       "      <td>France</td>\n",
       "      <td>Vinhedo - SP</td>\n",
       "      <td>8424</td>\n",
       "      <td>Mechanical appliances (whether or not hand-ope...</td>\n",
       "      <td>84</td>\n",
       "      <td>Nuclear reactors, boilers, machinery and mecha...</td>\n",
       "      <td>Europe</td>\n",
       "      <td>2316</td>\n",
       "      <td>4</td>\n",
       "    </tr>\n",
       "    <tr>\n",
       "      <th>142356</th>\n",
       "      <td>2020</td>\n",
       "      <td>12</td>\n",
       "      <td>France</td>\n",
       "      <td>Vitória de Santo Antão - PE</td>\n",
       "      <td>714</td>\n",
       "      <td>Manioc, arrowroot, salep, Jerusalem artichokes...</td>\n",
       "      <td>7</td>\n",
       "      <td>Edible vegetables and certain roots and tubers</td>\n",
       "      <td>Europe</td>\n",
       "      <td>27060</td>\n",
       "      <td>26400</td>\n",
       "    </tr>\n",
       "    <tr>\n",
       "      <th>142358</th>\n",
       "      <td>2020</td>\n",
       "      <td>12</td>\n",
       "      <td>France</td>\n",
       "      <td>Xapuri - AC</td>\n",
       "      <td>4409</td>\n",
       "      <td>Wood (including strips and friezes for parquet...</td>\n",
       "      <td>44</td>\n",
       "      <td>Wood and articles of wood; wood charcoal</td>\n",
       "      <td>Europe</td>\n",
       "      <td>31111</td>\n",
       "      <td>23045</td>\n",
       "    </tr>\n",
       "  </tbody>\n",
       "</table>\n",
       "<p>71180 rows × 11 columns</p>\n",
       "</div>"
      ],
      "text/plain": [
       "        Year  Month Country                         City  SH4 Code  \\\n",
       "0       2016      1  France            Águas Mornas - SC       303   \n",
       "2       2016      1  France            Águas Mornas - SC       304   \n",
       "4       2016      1  France                 Alfenas - MG       901   \n",
       "6       2016      1  France           Alta Floresta - MT      4409   \n",
       "8       2016      1  France              Ananindeua - PA      1211   \n",
       "...      ...    ...     ...                          ...       ...   \n",
       "142350  2020     12  France                 Vinhedo - SP      4016   \n",
       "142352  2020     12  France                 Vinhedo - SP      6806   \n",
       "142354  2020     12  France                 Vinhedo - SP      8424   \n",
       "142356  2020     12  France  Vitória de Santo Antão - PE       714   \n",
       "142358  2020     12  France                  Xapuri - AC      4409   \n",
       "\n",
       "                                          SH4 Description  SH2 Code  \\\n",
       "0       Fish, frozen, excluding fish fillets and other...         3   \n",
       "2       Fish fillets and other fish meat (whether or n...         3   \n",
       "4       Coffee, whether or not roasted or decaffeinate...         9   \n",
       "6       Wood (including strips and friezes for parquet...        44   \n",
       "8       Plants and parts of plants (including seeds an...        12   \n",
       "...                                                   ...       ...   \n",
       "142350  Other articles of vulcanised rubber other than...        40   \n",
       "142352  Slag wool, rock wool and similar mineral wools...        68   \n",
       "142354  Mechanical appliances (whether or not hand-ope...        84   \n",
       "142356  Manioc, arrowroot, salep, Jerusalem artichokes...         7   \n",
       "142358  Wood (including strips and friezes for parquet...        44   \n",
       "\n",
       "                                          SH2 Description Economic Block  \\\n",
       "0       Fish and crustaceans, molluscs and other aquat...         Europe   \n",
       "2       Fish and crustaceans, molluscs and other aquat...         Europe   \n",
       "4                            Coffee, tea, maté and spices         Europe   \n",
       "6                Wood and articles of wood; wood charcoal         Europe   \n",
       "8       Oil seeds and oleaginous fruits; Grains, Seeds...         Europe   \n",
       "...                                                   ...            ...   \n",
       "142350                        Rubber and articles thereof         Europe   \n",
       "142352  Articles of stone, plaster, cement, asbestos, ...         Europe   \n",
       "142354  Nuclear reactors, boilers, machinery and mecha...         Europe   \n",
       "142356     Edible vegetables and certain roots and tubers         Europe   \n",
       "142358           Wood and articles of wood; wood charcoal         Europe   \n",
       "\n",
       "        US$ FOB  Net Weight  \n",
       "0         79360       14150  \n",
       "2         69412        9385  \n",
       "4        180914       57600  \n",
       "6         47828       28306  \n",
       "8           391          22  \n",
       "...         ...         ...  \n",
       "142350      136           0  \n",
       "142352       76          50  \n",
       "142354     2316           4  \n",
       "142356    27060       26400  \n",
       "142358    31111       23045  \n",
       "\n",
       "[71180 rows x 11 columns]"
      ]
     },
     "metadata": {},
     "output_type": "display_data"
    }
   ],
   "source": [
    "import pandas as pd\n",
    "\n",
    "tabela = pd.read_csv(\"exportacoes_franca.csv\")\n",
    "\n",
    "# drop -> remove colunas\n",
    "# sort -> ordena\n",
    "# loc -> seleciona linhas\n",
    "tabela = tabela.loc[tabela [\"Economic Block\"] == \"Europe\", :]\n",
    "\n",
    "display(tabela)"
   ]
  },
  {
   "attachments": {},
   "cell_type": "markdown",
   "id": "4ad76a65",
   "metadata": {},
   "source": [
    "###### Informações Gerais"
   ]
  },
  {
   "cell_type": "code",
   "execution_count": 2,
   "id": "cce34f4d",
   "metadata": {},
   "outputs": [
    {
     "name": "stdout",
     "output_type": "stream",
     "text": [
      "<class 'pandas.core.frame.DataFrame'>\n",
      "Int64Index: 71180 entries, 0 to 142358\n",
      "Data columns (total 11 columns):\n",
      " #   Column           Non-Null Count  Dtype \n",
      "---  ------           --------------  ----- \n",
      " 0   Year             71180 non-null  int64 \n",
      " 1   Month            71180 non-null  int64 \n",
      " 2   Country          71180 non-null  object\n",
      " 3   City             71180 non-null  object\n",
      " 4   SH4 Code         71180 non-null  int64 \n",
      " 5   SH4 Description  71180 non-null  object\n",
      " 6   SH2 Code         71180 non-null  int64 \n",
      " 7   SH2 Description  71180 non-null  object\n",
      " 8   Economic Block   71180 non-null  object\n",
      " 9   US$ FOB          71180 non-null  int64 \n",
      " 10  Net Weight       71180 non-null  int64 \n",
      "dtypes: int64(6), object(5)\n",
      "memory usage: 6.5+ MB\n",
      "None\n"
     ]
    }
   ],
   "source": [
    "print(tabela.info())\n",
    "\n",
    "# display(tabela.describe())"
   ]
  },
  {
   "attachments": {},
   "cell_type": "markdown",
   "id": "2daa0fa9",
   "metadata": {},
   "source": [
    "###### Evolução das exportações para a França ao longo dos anos (US$)"
   ]
  },
  {
   "cell_type": "code",
   "execution_count": 3,
   "id": "f02fb7d6",
   "metadata": {},
   "outputs": [
    {
     "data": {
      "application/vnd.plotly.v1+json": {
       "config": {
        "plotlyServerURL": "https://plot.ly"
       },
       "data": [
        {
         "hovertemplate": "Year=%{x}<br>US$ FOB=%{y}<extra></extra>",
         "legendgroup": "",
         "line": {
          "color": "#636efa",
          "dash": "solid"
         },
         "marker": {
          "symbol": "circle"
         },
         "mode": "lines",
         "name": "",
         "orientation": "v",
         "showlegend": false,
         "type": "scatter",
         "x": [
          2016,
          2017,
          2018,
          2019,
          2020
         ],
         "xaxis": "x",
         "y": [
          2307750041,
          2224352728,
          2619712208,
          2609361806,
          1983797405
         ],
         "yaxis": "y"
        }
       ],
       "layout": {
        "legend": {
         "tracegroupgap": 0
        },
        "template": {
         "data": {
          "bar": [
           {
            "error_x": {
             "color": "#2a3f5f"
            },
            "error_y": {
             "color": "#2a3f5f"
            },
            "marker": {
             "line": {
              "color": "#E5ECF6",
              "width": 0.5
             },
             "pattern": {
              "fillmode": "overlay",
              "size": 10,
              "solidity": 0.2
             }
            },
            "type": "bar"
           }
          ],
          "barpolar": [
           {
            "marker": {
             "line": {
              "color": "#E5ECF6",
              "width": 0.5
             },
             "pattern": {
              "fillmode": "overlay",
              "size": 10,
              "solidity": 0.2
             }
            },
            "type": "barpolar"
           }
          ],
          "carpet": [
           {
            "aaxis": {
             "endlinecolor": "#2a3f5f",
             "gridcolor": "white",
             "linecolor": "white",
             "minorgridcolor": "white",
             "startlinecolor": "#2a3f5f"
            },
            "baxis": {
             "endlinecolor": "#2a3f5f",
             "gridcolor": "white",
             "linecolor": "white",
             "minorgridcolor": "white",
             "startlinecolor": "#2a3f5f"
            },
            "type": "carpet"
           }
          ],
          "choropleth": [
           {
            "colorbar": {
             "outlinewidth": 0,
             "ticks": ""
            },
            "type": "choropleth"
           }
          ],
          "contour": [
           {
            "colorbar": {
             "outlinewidth": 0,
             "ticks": ""
            },
            "colorscale": [
             [
              0,
              "#0d0887"
             ],
             [
              0.1111111111111111,
              "#46039f"
             ],
             [
              0.2222222222222222,
              "#7201a8"
             ],
             [
              0.3333333333333333,
              "#9c179e"
             ],
             [
              0.4444444444444444,
              "#bd3786"
             ],
             [
              0.5555555555555556,
              "#d8576b"
             ],
             [
              0.6666666666666666,
              "#ed7953"
             ],
             [
              0.7777777777777778,
              "#fb9f3a"
             ],
             [
              0.8888888888888888,
              "#fdca26"
             ],
             [
              1,
              "#f0f921"
             ]
            ],
            "type": "contour"
           }
          ],
          "contourcarpet": [
           {
            "colorbar": {
             "outlinewidth": 0,
             "ticks": ""
            },
            "type": "contourcarpet"
           }
          ],
          "heatmap": [
           {
            "colorbar": {
             "outlinewidth": 0,
             "ticks": ""
            },
            "colorscale": [
             [
              0,
              "#0d0887"
             ],
             [
              0.1111111111111111,
              "#46039f"
             ],
             [
              0.2222222222222222,
              "#7201a8"
             ],
             [
              0.3333333333333333,
              "#9c179e"
             ],
             [
              0.4444444444444444,
              "#bd3786"
             ],
             [
              0.5555555555555556,
              "#d8576b"
             ],
             [
              0.6666666666666666,
              "#ed7953"
             ],
             [
              0.7777777777777778,
              "#fb9f3a"
             ],
             [
              0.8888888888888888,
              "#fdca26"
             ],
             [
              1,
              "#f0f921"
             ]
            ],
            "type": "heatmap"
           }
          ],
          "heatmapgl": [
           {
            "colorbar": {
             "outlinewidth": 0,
             "ticks": ""
            },
            "colorscale": [
             [
              0,
              "#0d0887"
             ],
             [
              0.1111111111111111,
              "#46039f"
             ],
             [
              0.2222222222222222,
              "#7201a8"
             ],
             [
              0.3333333333333333,
              "#9c179e"
             ],
             [
              0.4444444444444444,
              "#bd3786"
             ],
             [
              0.5555555555555556,
              "#d8576b"
             ],
             [
              0.6666666666666666,
              "#ed7953"
             ],
             [
              0.7777777777777778,
              "#fb9f3a"
             ],
             [
              0.8888888888888888,
              "#fdca26"
             ],
             [
              1,
              "#f0f921"
             ]
            ],
            "type": "heatmapgl"
           }
          ],
          "histogram": [
           {
            "marker": {
             "pattern": {
              "fillmode": "overlay",
              "size": 10,
              "solidity": 0.2
             }
            },
            "type": "histogram"
           }
          ],
          "histogram2d": [
           {
            "colorbar": {
             "outlinewidth": 0,
             "ticks": ""
            },
            "colorscale": [
             [
              0,
              "#0d0887"
             ],
             [
              0.1111111111111111,
              "#46039f"
             ],
             [
              0.2222222222222222,
              "#7201a8"
             ],
             [
              0.3333333333333333,
              "#9c179e"
             ],
             [
              0.4444444444444444,
              "#bd3786"
             ],
             [
              0.5555555555555556,
              "#d8576b"
             ],
             [
              0.6666666666666666,
              "#ed7953"
             ],
             [
              0.7777777777777778,
              "#fb9f3a"
             ],
             [
              0.8888888888888888,
              "#fdca26"
             ],
             [
              1,
              "#f0f921"
             ]
            ],
            "type": "histogram2d"
           }
          ],
          "histogram2dcontour": [
           {
            "colorbar": {
             "outlinewidth": 0,
             "ticks": ""
            },
            "colorscale": [
             [
              0,
              "#0d0887"
             ],
             [
              0.1111111111111111,
              "#46039f"
             ],
             [
              0.2222222222222222,
              "#7201a8"
             ],
             [
              0.3333333333333333,
              "#9c179e"
             ],
             [
              0.4444444444444444,
              "#bd3786"
             ],
             [
              0.5555555555555556,
              "#d8576b"
             ],
             [
              0.6666666666666666,
              "#ed7953"
             ],
             [
              0.7777777777777778,
              "#fb9f3a"
             ],
             [
              0.8888888888888888,
              "#fdca26"
             ],
             [
              1,
              "#f0f921"
             ]
            ],
            "type": "histogram2dcontour"
           }
          ],
          "mesh3d": [
           {
            "colorbar": {
             "outlinewidth": 0,
             "ticks": ""
            },
            "type": "mesh3d"
           }
          ],
          "parcoords": [
           {
            "line": {
             "colorbar": {
              "outlinewidth": 0,
              "ticks": ""
             }
            },
            "type": "parcoords"
           }
          ],
          "pie": [
           {
            "automargin": true,
            "type": "pie"
           }
          ],
          "scatter": [
           {
            "fillpattern": {
             "fillmode": "overlay",
             "size": 10,
             "solidity": 0.2
            },
            "type": "scatter"
           }
          ],
          "scatter3d": [
           {
            "line": {
             "colorbar": {
              "outlinewidth": 0,
              "ticks": ""
             }
            },
            "marker": {
             "colorbar": {
              "outlinewidth": 0,
              "ticks": ""
             }
            },
            "type": "scatter3d"
           }
          ],
          "scattercarpet": [
           {
            "marker": {
             "colorbar": {
              "outlinewidth": 0,
              "ticks": ""
             }
            },
            "type": "scattercarpet"
           }
          ],
          "scattergeo": [
           {
            "marker": {
             "colorbar": {
              "outlinewidth": 0,
              "ticks": ""
             }
            },
            "type": "scattergeo"
           }
          ],
          "scattergl": [
           {
            "marker": {
             "colorbar": {
              "outlinewidth": 0,
              "ticks": ""
             }
            },
            "type": "scattergl"
           }
          ],
          "scattermapbox": [
           {
            "marker": {
             "colorbar": {
              "outlinewidth": 0,
              "ticks": ""
             }
            },
            "type": "scattermapbox"
           }
          ],
          "scatterpolar": [
           {
            "marker": {
             "colorbar": {
              "outlinewidth": 0,
              "ticks": ""
             }
            },
            "type": "scatterpolar"
           }
          ],
          "scatterpolargl": [
           {
            "marker": {
             "colorbar": {
              "outlinewidth": 0,
              "ticks": ""
             }
            },
            "type": "scatterpolargl"
           }
          ],
          "scatterternary": [
           {
            "marker": {
             "colorbar": {
              "outlinewidth": 0,
              "ticks": ""
             }
            },
            "type": "scatterternary"
           }
          ],
          "surface": [
           {
            "colorbar": {
             "outlinewidth": 0,
             "ticks": ""
            },
            "colorscale": [
             [
              0,
              "#0d0887"
             ],
             [
              0.1111111111111111,
              "#46039f"
             ],
             [
              0.2222222222222222,
              "#7201a8"
             ],
             [
              0.3333333333333333,
              "#9c179e"
             ],
             [
              0.4444444444444444,
              "#bd3786"
             ],
             [
              0.5555555555555556,
              "#d8576b"
             ],
             [
              0.6666666666666666,
              "#ed7953"
             ],
             [
              0.7777777777777778,
              "#fb9f3a"
             ],
             [
              0.8888888888888888,
              "#fdca26"
             ],
             [
              1,
              "#f0f921"
             ]
            ],
            "type": "surface"
           }
          ],
          "table": [
           {
            "cells": {
             "fill": {
              "color": "#EBF0F8"
             },
             "line": {
              "color": "white"
             }
            },
            "header": {
             "fill": {
              "color": "#C8D4E3"
             },
             "line": {
              "color": "white"
             }
            },
            "type": "table"
           }
          ]
         },
         "layout": {
          "annotationdefaults": {
           "arrowcolor": "#2a3f5f",
           "arrowhead": 0,
           "arrowwidth": 1
          },
          "autotypenumbers": "strict",
          "coloraxis": {
           "colorbar": {
            "outlinewidth": 0,
            "ticks": ""
           }
          },
          "colorscale": {
           "diverging": [
            [
             0,
             "#8e0152"
            ],
            [
             0.1,
             "#c51b7d"
            ],
            [
             0.2,
             "#de77ae"
            ],
            [
             0.3,
             "#f1b6da"
            ],
            [
             0.4,
             "#fde0ef"
            ],
            [
             0.5,
             "#f7f7f7"
            ],
            [
             0.6,
             "#e6f5d0"
            ],
            [
             0.7,
             "#b8e186"
            ],
            [
             0.8,
             "#7fbc41"
            ],
            [
             0.9,
             "#4d9221"
            ],
            [
             1,
             "#276419"
            ]
           ],
           "sequential": [
            [
             0,
             "#0d0887"
            ],
            [
             0.1111111111111111,
             "#46039f"
            ],
            [
             0.2222222222222222,
             "#7201a8"
            ],
            [
             0.3333333333333333,
             "#9c179e"
            ],
            [
             0.4444444444444444,
             "#bd3786"
            ],
            [
             0.5555555555555556,
             "#d8576b"
            ],
            [
             0.6666666666666666,
             "#ed7953"
            ],
            [
             0.7777777777777778,
             "#fb9f3a"
            ],
            [
             0.8888888888888888,
             "#fdca26"
            ],
            [
             1,
             "#f0f921"
            ]
           ],
           "sequentialminus": [
            [
             0,
             "#0d0887"
            ],
            [
             0.1111111111111111,
             "#46039f"
            ],
            [
             0.2222222222222222,
             "#7201a8"
            ],
            [
             0.3333333333333333,
             "#9c179e"
            ],
            [
             0.4444444444444444,
             "#bd3786"
            ],
            [
             0.5555555555555556,
             "#d8576b"
            ],
            [
             0.6666666666666666,
             "#ed7953"
            ],
            [
             0.7777777777777778,
             "#fb9f3a"
            ],
            [
             0.8888888888888888,
             "#fdca26"
            ],
            [
             1,
             "#f0f921"
            ]
           ]
          },
          "colorway": [
           "#636efa",
           "#EF553B",
           "#00cc96",
           "#ab63fa",
           "#FFA15A",
           "#19d3f3",
           "#FF6692",
           "#B6E880",
           "#FF97FF",
           "#FECB52"
          ],
          "font": {
           "color": "#2a3f5f"
          },
          "geo": {
           "bgcolor": "white",
           "lakecolor": "white",
           "landcolor": "#E5ECF6",
           "showlakes": true,
           "showland": true,
           "subunitcolor": "white"
          },
          "hoverlabel": {
           "align": "left"
          },
          "hovermode": "closest",
          "mapbox": {
           "style": "light"
          },
          "paper_bgcolor": "white",
          "plot_bgcolor": "#E5ECF6",
          "polar": {
           "angularaxis": {
            "gridcolor": "white",
            "linecolor": "white",
            "ticks": ""
           },
           "bgcolor": "#E5ECF6",
           "radialaxis": {
            "gridcolor": "white",
            "linecolor": "white",
            "ticks": ""
           }
          },
          "scene": {
           "xaxis": {
            "backgroundcolor": "#E5ECF6",
            "gridcolor": "white",
            "gridwidth": 2,
            "linecolor": "white",
            "showbackground": true,
            "ticks": "",
            "zerolinecolor": "white"
           },
           "yaxis": {
            "backgroundcolor": "#E5ECF6",
            "gridcolor": "white",
            "gridwidth": 2,
            "linecolor": "white",
            "showbackground": true,
            "ticks": "",
            "zerolinecolor": "white"
           },
           "zaxis": {
            "backgroundcolor": "#E5ECF6",
            "gridcolor": "white",
            "gridwidth": 2,
            "linecolor": "white",
            "showbackground": true,
            "ticks": "",
            "zerolinecolor": "white"
           }
          },
          "shapedefaults": {
           "line": {
            "color": "#2a3f5f"
           }
          },
          "ternary": {
           "aaxis": {
            "gridcolor": "white",
            "linecolor": "white",
            "ticks": ""
           },
           "baxis": {
            "gridcolor": "white",
            "linecolor": "white",
            "ticks": ""
           },
           "bgcolor": "#E5ECF6",
           "caxis": {
            "gridcolor": "white",
            "linecolor": "white",
            "ticks": ""
           }
          },
          "title": {
           "x": 0.05
          },
          "xaxis": {
           "automargin": true,
           "gridcolor": "white",
           "linecolor": "white",
           "ticks": "",
           "title": {
            "standoff": 15
           },
           "zerolinecolor": "white",
           "zerolinewidth": 2
          },
          "yaxis": {
           "automargin": true,
           "gridcolor": "white",
           "linecolor": "white",
           "ticks": "",
           "title": {
            "standoff": 15
           },
           "zerolinecolor": "white",
           "zerolinewidth": 2
          }
         }
        },
        "title": {
         "text": "Exportações da França por ano"
        },
        "xaxis": {
         "anchor": "y",
         "domain": [
          0,
          1
         ],
         "rangemode": "tozero",
         "title": {
          "text": "Year"
         },
         "type": "category"
        },
        "yaxis": {
         "anchor": "x",
         "domain": [
          0,
          1
         ],
         "title": {
          "text": "US$ FOB"
         }
        }
       }
      }
     },
     "metadata": {},
     "output_type": "display_data"
    },
    {
     "data": {
      "text/html": [
       "<div>\n",
       "<style scoped>\n",
       "    .dataframe tbody tr th:only-of-type {\n",
       "        vertical-align: middle;\n",
       "    }\n",
       "\n",
       "    .dataframe tbody tr th {\n",
       "        vertical-align: top;\n",
       "    }\n",
       "\n",
       "    .dataframe thead th {\n",
       "        text-align: right;\n",
       "    }\n",
       "</style>\n",
       "<table border=\"1\" class=\"dataframe\">\n",
       "  <thead>\n",
       "    <tr style=\"text-align: right;\">\n",
       "      <th></th>\n",
       "      <th>Year</th>\n",
       "      <th>US$ FOB</th>\n",
       "      <th>Net Weight</th>\n",
       "    </tr>\n",
       "  </thead>\n",
       "  <tbody>\n",
       "    <tr>\n",
       "      <th>0</th>\n",
       "      <td>2016</td>\n",
       "      <td>$ 2,307,750,041.00</td>\n",
       "      <td>10899058259</td>\n",
       "    </tr>\n",
       "    <tr>\n",
       "      <th>1</th>\n",
       "      <td>2017</td>\n",
       "      <td>$ 2,224,352,728.00</td>\n",
       "      <td>11278264626</td>\n",
       "    </tr>\n",
       "    <tr>\n",
       "      <th>2</th>\n",
       "      <td>2018</td>\n",
       "      <td>$ 2,619,712,208.00</td>\n",
       "      <td>10452620066</td>\n",
       "    </tr>\n",
       "    <tr>\n",
       "      <th>3</th>\n",
       "      <td>2019</td>\n",
       "      <td>$ 2,609,361,806.00</td>\n",
       "      <td>8206207675</td>\n",
       "    </tr>\n",
       "    <tr>\n",
       "      <th>4</th>\n",
       "      <td>2020</td>\n",
       "      <td>$ 1,983,797,405.00</td>\n",
       "      <td>5434444024</td>\n",
       "    </tr>\n",
       "  </tbody>\n",
       "</table>\n",
       "</div>"
      ],
      "text/plain": [
       "   Year             US$ FOB   Net Weight\n",
       "0  2016  $ 2,307,750,041.00  10899058259\n",
       "1  2017  $ 2,224,352,728.00  11278264626\n",
       "2  2018  $ 2,619,712,208.00  10452620066\n",
       "3  2019  $ 2,609,361,806.00   8206207675\n",
       "4  2020  $ 1,983,797,405.00   5434444024"
      ]
     },
     "metadata": {},
     "output_type": "display_data"
    }
   ],
   "source": [
    "# exportacao_ano = tabela.groupby([\"Year\", \"Month\"]).sum()\n",
    "exportacao_ano = tabela.groupby(\"Year\").sum()\n",
    "exportacao_ano = exportacao_ano[[\"US$ FOB\", \"Net Weight\"]]\n",
    "\n",
    "def formatacao(valor):\n",
    "    return f\"$ {valor:,.2f}\"\n",
    "\n",
    "import plotly.express as px\n",
    "\n",
    "exportacao_ano = exportacao_ano.reset_index()\n",
    "grafico = px.line(exportacao_ano, x=\"Year\", y=\"US$ FOB\", title=\"Exportações da França por ano\")\n",
    "grafico.update_xaxes(type=\"category\")\n",
    "grafico.update_xaxes(rangemode=\"tozero\")\n",
    "grafico.show()\n",
    "\n",
    "exportacao_ano[\"US$ FOB\"] = exportacao_ano[\"US$ FOB\"].map(formatacao)\n",
    "\n",
    "display(exportacao_ano)"
   ]
  },
  {
   "attachments": {},
   "cell_type": "markdown",
   "id": "717e331d",
   "metadata": {},
   "source": [
    "###### Os produtos mais exportados ao longo de todo o período em (US$)"
   ]
  },
  {
   "cell_type": "code",
   "execution_count": 10,
   "id": "ba74c817",
   "metadata": {},
   "outputs": [
    {
     "data": {
      "text/html": [
       "<div>\n",
       "<style scoped>\n",
       "    .dataframe tbody tr th:only-of-type {\n",
       "        vertical-align: middle;\n",
       "    }\n",
       "\n",
       "    .dataframe tbody tr th {\n",
       "        vertical-align: top;\n",
       "    }\n",
       "\n",
       "    .dataframe thead th {\n",
       "        text-align: right;\n",
       "    }\n",
       "</style>\n",
       "<table border=\"1\" class=\"dataframe\">\n",
       "  <thead>\n",
       "    <tr style=\"text-align: right;\">\n",
       "      <th></th>\n",
       "      <th>US$ FOB</th>\n",
       "    </tr>\n",
       "    <tr>\n",
       "      <th>SH4 Description</th>\n",
       "      <th></th>\n",
       "    </tr>\n",
       "  </thead>\n",
       "  <tbody>\n",
       "    <tr>\n",
       "      <th>Soybean oilcake and other solid residue, wh/not ground</th>\n",
       "      <td>$ 2,814,212,320.00</td>\n",
       "    </tr>\n",
       "    <tr>\n",
       "      <th>Iron ores and concentrates, including roasted iron pyrites</th>\n",
       "      <td>$ 1,632,140,244.00</td>\n",
       "    </tr>\n",
       "    <tr>\n",
       "      <th>Chemical wood pulp, soda or sulphate, other than dissolving grades</th>\n",
       "      <td>$ 922,712,342.00</td>\n",
       "    </tr>\n",
       "    <tr>\n",
       "      <th>Coffee, whether or not roasted or decaffeinated; coffee husks and skins; coffee substitutes containing coffee in any proportion</th>\n",
       "      <td>$ 536,277,376.00</td>\n",
       "    </tr>\n",
       "    <tr>\n",
       "      <th>Other aircraft (for example, helicopters, aeroplanes); spacecraft (including satellites) and suborbital and spacecraft launch vehicles</th>\n",
       "      <td>$ 342,566,535.00</td>\n",
       "    </tr>\n",
       "    <tr>\n",
       "      <th>...</th>\n",
       "      <td>...</td>\n",
       "    </tr>\n",
       "    <tr>\n",
       "      <th>Anti-freezing preparations and prepared de-icing fluids</th>\n",
       "      <td>$ 5.00</td>\n",
       "    </tr>\n",
       "    <tr>\n",
       "      <th>Man-made filament yarn (other than sewing thread), put up for retail sale</th>\n",
       "      <td>$ 5.00</td>\n",
       "    </tr>\n",
       "    <tr>\n",
       "      <th>Glass envelopes (including bulbs and tubes), open, and glass parts thereof, without fittings, for electric lamps, cathode-ray tubes or the like</th>\n",
       "      <td>$ 4.00</td>\n",
       "    </tr>\n",
       "    <tr>\n",
       "      <th>Cast glass and rolled glass, in sheets or profiles, whether or not having an absorbent, reflecting or non-reflecting layer, but not otherwise worked</th>\n",
       "      <td>$ 3.00</td>\n",
       "    </tr>\n",
       "    <tr>\n",
       "      <th>Drawing or colouring books for children</th>\n",
       "      <td>$ 3.00</td>\n",
       "    </tr>\n",
       "  </tbody>\n",
       "</table>\n",
       "<p>935 rows × 1 columns</p>\n",
       "</div>"
      ],
      "text/plain": [
       "                                                               US$ FOB\n",
       "SH4 Description                                                       \n",
       "Soybean oilcake and other solid residue, wh/not...  $ 2,814,212,320.00\n",
       "Iron ores and concentrates, including roasted i...  $ 1,632,140,244.00\n",
       "Chemical wood pulp, soda or sulphate, other tha...    $ 922,712,342.00\n",
       "Coffee, whether or not roasted or decaffeinated...    $ 536,277,376.00\n",
       "Other aircraft (for example, helicopters, aerop...    $ 342,566,535.00\n",
       "...                                                                ...\n",
       "Anti-freezing preparations and prepared de-icin...              $ 5.00\n",
       "Man-made filament yarn (other than sewing threa...              $ 5.00\n",
       "Glass envelopes (including bulbs and tubes), op...              $ 4.00\n",
       "Cast glass and rolled glass, in sheets or profi...              $ 3.00\n",
       "Drawing or colouring books for children                         $ 3.00\n",
       "\n",
       "[935 rows x 1 columns]"
      ]
     },
     "metadata": {},
     "output_type": "display_data"
    }
   ],
   "source": [
    "exportacao_produto = tabela.groupby(\"SH4 Description\").sum()\n",
    "exportacao_produto = exportacao_produto[[\"US$ FOB\"]]\n",
    "exportacao_produto = exportacao_produto.sort_values(\"US$ FOB\", ascending=False)\n",
    "exportacao_produto[\"US$ FOB\"] = exportacao_produto[\"US$ FOB\"].map(formatacao)\n",
    "\n",
    "display(exportacao_produto)"
   ]
  },
  {
   "attachments": {},
   "cell_type": "markdown",
   "id": "6ce25d4d",
   "metadata": {},
   "source": [
    "###### Em 2020, qual cidade mais exportou para a França?"
   ]
  },
  {
   "cell_type": "code",
   "execution_count": 20,
   "id": "074fb7b8",
   "metadata": {},
   "outputs": [
    {
     "data": {
      "text/html": [
       "<div>\n",
       "<style scoped>\n",
       "    .dataframe tbody tr th:only-of-type {\n",
       "        vertical-align: middle;\n",
       "    }\n",
       "\n",
       "    .dataframe tbody tr th {\n",
       "        vertical-align: top;\n",
       "    }\n",
       "\n",
       "    .dataframe thead th {\n",
       "        text-align: right;\n",
       "    }\n",
       "</style>\n",
       "<table border=\"1\" class=\"dataframe\">\n",
       "  <thead>\n",
       "    <tr style=\"text-align: right;\">\n",
       "      <th></th>\n",
       "      <th>US$ FOB</th>\n",
       "    </tr>\n",
       "    <tr>\n",
       "      <th>City</th>\n",
       "      <th></th>\n",
       "    </tr>\n",
       "  </thead>\n",
       "  <tbody>\n",
       "    <tr>\n",
       "      <th>Duque de Caxias - RJ</th>\n",
       "      <td>$ 139,702,798.00</td>\n",
       "    </tr>\n",
       "    <tr>\n",
       "      <th>Luís Eduardo Magalhães - BA</th>\n",
       "      <td>$ 132,664,066.00</td>\n",
       "    </tr>\n",
       "    <tr>\n",
       "      <th>Ponta Grossa - PR</th>\n",
       "      <td>$ 93,888,508.00</td>\n",
       "    </tr>\n",
       "    <tr>\n",
       "      <th>São José dos Campos - SP</th>\n",
       "      <td>$ 86,469,638.00</td>\n",
       "    </tr>\n",
       "    <tr>\n",
       "      <th>Rio de Janeiro - RJ</th>\n",
       "      <td>$ 61,261,107.00</td>\n",
       "    </tr>\n",
       "    <tr>\n",
       "      <th>...</th>\n",
       "      <td>...</td>\n",
       "    </tr>\n",
       "    <tr>\n",
       "      <th>Não-Me-Toque - RS</th>\n",
       "      <td>$ 21.00</td>\n",
       "    </tr>\n",
       "    <tr>\n",
       "      <th>Cubatão - SP</th>\n",
       "      <td>$ 20.00</td>\n",
       "    </tr>\n",
       "    <tr>\n",
       "      <th>Holambra - SP</th>\n",
       "      <td>$ 5.00</td>\n",
       "    </tr>\n",
       "    <tr>\n",
       "      <th>São Sebastião do Caí - RS</th>\n",
       "      <td>$ 3.00</td>\n",
       "    </tr>\n",
       "    <tr>\n",
       "      <th>Quatro Pontes - PR</th>\n",
       "      <td>$ 0.00</td>\n",
       "    </tr>\n",
       "  </tbody>\n",
       "</table>\n",
       "<p>648 rows × 1 columns</p>\n",
       "</div>"
      ],
      "text/plain": [
       "                                      US$ FOB\n",
       "City                                         \n",
       "Duque de Caxias - RJ         $ 139,702,798.00\n",
       "Luís Eduardo Magalhães - BA  $ 132,664,066.00\n",
       "Ponta Grossa - PR             $ 93,888,508.00\n",
       "São José dos Campos - SP      $ 86,469,638.00\n",
       "Rio de Janeiro - RJ           $ 61,261,107.00\n",
       "...                                       ...\n",
       "Não-Me-Toque - RS                     $ 21.00\n",
       "Cubatão - SP                          $ 20.00\n",
       "Holambra - SP                          $ 5.00\n",
       "São Sebastião do Caí - RS              $ 3.00\n",
       "Quatro Pontes - PR                     $ 0.00\n",
       "\n",
       "[648 rows x 1 columns]"
      ]
     },
     "metadata": {},
     "output_type": "display_data"
    }
   ],
   "source": [
    "tabela_2020 = tabela.loc[tabela[\"Year\"] == 2020, :]\n",
    "exportacao_cidade_2020 = tabela_2020.groupby(\"City\").sum()[[\"US$ FOB\"]]\n",
    "exportacao_cidade_2020 = exportacao_cidade_2020.sort_values(\"US$ FOB\", ascending=False)\n",
    "exportacao_cidade_2020[\"US$ FOB\"] = exportacao_cidade_2020[\"US$ FOB\"].map(formatacao)\n",
    "Qu\n",
    "display(exportacao_cidade_2020)"
   ]
  },
  {
   "attachments": {},
   "cell_type": "markdown",
   "id": "84fbbcf3",
   "metadata": {},
   "source": [
    "###### O que as 2 maiores cidades exportaram?"
   ]
  },
  {
   "cell_type": "code",
   "execution_count": null,
   "id": "12173e06",
   "metadata": {},
   "outputs": [],
   "source": []
  }
 ],
 "metadata": {
  "kernelspec": {
   "display_name": "Python 3 (ipykernel)",
   "language": "python",
   "name": "python3"
  },
  "language_info": {
   "codemirror_mode": {
    "name": "ipython",
    "version": 3
   },
   "file_extension": ".py",
   "mimetype": "text/x-python",
   "name": "python",
   "nbconvert_exporter": "python",
   "pygments_lexer": "ipython3",
   "version": "3.9.7"
  }
 },
 "nbformat": 4,
 "nbformat_minor": 5
}
