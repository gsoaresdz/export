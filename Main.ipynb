{
 "cells": [
  {
   "attachments": {},
   "cell_type": "markdown",
   "id": "e86f2682",
   "metadata": {},
   "source": [
    "## Detalhamento de Exportação ente Brasil e França"
   ]
  },
  {
   "attachments": {},
   "cell_type": "markdown",
   "id": "993ee9ad",
   "metadata": {},
   "source": [
    "###### Base de dados"
   ]
  },
  {
   "cell_type": "code",
   "execution_count": 1,
   "id": "90e92890",
   "metadata": {},
   "outputs": [
    {
     "data": {
      "text/html": [
       "<div>\n",
       "<style scoped>\n",
       "    .dataframe tbody tr th:only-of-type {\n",
       "        vertical-align: middle;\n",
       "    }\n",
       "\n",
       "    .dataframe tbody tr th {\n",
       "        vertical-align: top;\n",
       "    }\n",
       "\n",
       "    .dataframe thead th {\n",
       "        text-align: right;\n",
       "    }\n",
       "</style>\n",
       "<table border=\"1\" class=\"dataframe\">\n",
       "  <thead>\n",
       "    <tr style=\"text-align: right;\">\n",
       "      <th></th>\n",
       "      <th>Year</th>\n",
       "      <th>Month</th>\n",
       "      <th>Country</th>\n",
       "      <th>City</th>\n",
       "      <th>SH4 Code</th>\n",
       "      <th>SH4 Description</th>\n",
       "      <th>SH2 Code</th>\n",
       "      <th>SH2 Description</th>\n",
       "      <th>Economic Block</th>\n",
       "      <th>US$ FOB</th>\n",
       "      <th>Net Weight</th>\n",
       "    </tr>\n",
       "  </thead>\n",
       "  <tbody>\n",
       "    <tr>\n",
       "      <th>0</th>\n",
       "      <td>2016</td>\n",
       "      <td>1</td>\n",
       "      <td>France</td>\n",
       "      <td>Águas Mornas - SC</td>\n",
       "      <td>303</td>\n",
       "      <td>Fish, frozen, excluding fish fillets and other...</td>\n",
       "      <td>3</td>\n",
       "      <td>Fish and crustaceans, molluscs and other aquat...</td>\n",
       "      <td>Europe</td>\n",
       "      <td>79360</td>\n",
       "      <td>14150</td>\n",
       "    </tr>\n",
       "    <tr>\n",
       "      <th>1</th>\n",
       "      <td>2016</td>\n",
       "      <td>1</td>\n",
       "      <td>France</td>\n",
       "      <td>Águas Mornas - SC</td>\n",
       "      <td>303</td>\n",
       "      <td>Fish, frozen, excluding fish fillets and other...</td>\n",
       "      <td>3</td>\n",
       "      <td>Fish and crustaceans, molluscs and other aquat...</td>\n",
       "      <td>European Union (EU)</td>\n",
       "      <td>79360</td>\n",
       "      <td>14150</td>\n",
       "    </tr>\n",
       "    <tr>\n",
       "      <th>2</th>\n",
       "      <td>2016</td>\n",
       "      <td>1</td>\n",
       "      <td>France</td>\n",
       "      <td>Águas Mornas - SC</td>\n",
       "      <td>304</td>\n",
       "      <td>Fish fillets and other fish meat (whether or n...</td>\n",
       "      <td>3</td>\n",
       "      <td>Fish and crustaceans, molluscs and other aquat...</td>\n",
       "      <td>Europe</td>\n",
       "      <td>69412</td>\n",
       "      <td>9385</td>\n",
       "    </tr>\n",
       "    <tr>\n",
       "      <th>3</th>\n",
       "      <td>2016</td>\n",
       "      <td>1</td>\n",
       "      <td>France</td>\n",
       "      <td>Águas Mornas - SC</td>\n",
       "      <td>304</td>\n",
       "      <td>Fish fillets and other fish meat (whether or n...</td>\n",
       "      <td>3</td>\n",
       "      <td>Fish and crustaceans, molluscs and other aquat...</td>\n",
       "      <td>European Union (EU)</td>\n",
       "      <td>69412</td>\n",
       "      <td>9385</td>\n",
       "    </tr>\n",
       "    <tr>\n",
       "      <th>4</th>\n",
       "      <td>2016</td>\n",
       "      <td>1</td>\n",
       "      <td>France</td>\n",
       "      <td>Alfenas - MG</td>\n",
       "      <td>901</td>\n",
       "      <td>Coffee, whether or not roasted or decaffeinate...</td>\n",
       "      <td>9</td>\n",
       "      <td>Coffee, tea, maté and spices</td>\n",
       "      <td>Europe</td>\n",
       "      <td>180914</td>\n",
       "      <td>57600</td>\n",
       "    </tr>\n",
       "    <tr>\n",
       "      <th>...</th>\n",
       "      <td>...</td>\n",
       "      <td>...</td>\n",
       "      <td>...</td>\n",
       "      <td>...</td>\n",
       "      <td>...</td>\n",
       "      <td>...</td>\n",
       "      <td>...</td>\n",
       "      <td>...</td>\n",
       "      <td>...</td>\n",
       "      <td>...</td>\n",
       "      <td>...</td>\n",
       "    </tr>\n",
       "    <tr>\n",
       "      <th>142355</th>\n",
       "      <td>2020</td>\n",
       "      <td>12</td>\n",
       "      <td>France</td>\n",
       "      <td>Vinhedo - SP</td>\n",
       "      <td>8424</td>\n",
       "      <td>Mechanical appliances (whether or not hand-ope...</td>\n",
       "      <td>84</td>\n",
       "      <td>Nuclear reactors, boilers, machinery and mecha...</td>\n",
       "      <td>European Union (EU)</td>\n",
       "      <td>2316</td>\n",
       "      <td>4</td>\n",
       "    </tr>\n",
       "    <tr>\n",
       "      <th>142356</th>\n",
       "      <td>2020</td>\n",
       "      <td>12</td>\n",
       "      <td>France</td>\n",
       "      <td>Vitória de Santo Antão - PE</td>\n",
       "      <td>714</td>\n",
       "      <td>Manioc, arrowroot, salep, Jerusalem artichokes...</td>\n",
       "      <td>7</td>\n",
       "      <td>Edible vegetables and certain roots and tubers</td>\n",
       "      <td>Europe</td>\n",
       "      <td>27060</td>\n",
       "      <td>26400</td>\n",
       "    </tr>\n",
       "    <tr>\n",
       "      <th>142357</th>\n",
       "      <td>2020</td>\n",
       "      <td>12</td>\n",
       "      <td>France</td>\n",
       "      <td>Vitória de Santo Antão - PE</td>\n",
       "      <td>714</td>\n",
       "      <td>Manioc, arrowroot, salep, Jerusalem artichokes...</td>\n",
       "      <td>7</td>\n",
       "      <td>Edible vegetables and certain roots and tubers</td>\n",
       "      <td>European Union (EU)</td>\n",
       "      <td>27060</td>\n",
       "      <td>26400</td>\n",
       "    </tr>\n",
       "    <tr>\n",
       "      <th>142358</th>\n",
       "      <td>2020</td>\n",
       "      <td>12</td>\n",
       "      <td>France</td>\n",
       "      <td>Xapuri - AC</td>\n",
       "      <td>4409</td>\n",
       "      <td>Wood (including strips and friezes for parquet...</td>\n",
       "      <td>44</td>\n",
       "      <td>Wood and articles of wood; wood charcoal</td>\n",
       "      <td>Europe</td>\n",
       "      <td>31111</td>\n",
       "      <td>23045</td>\n",
       "    </tr>\n",
       "    <tr>\n",
       "      <th>142359</th>\n",
       "      <td>2020</td>\n",
       "      <td>12</td>\n",
       "      <td>France</td>\n",
       "      <td>Xapuri - AC</td>\n",
       "      <td>4409</td>\n",
       "      <td>Wood (including strips and friezes for parquet...</td>\n",
       "      <td>44</td>\n",
       "      <td>Wood and articles of wood; wood charcoal</td>\n",
       "      <td>European Union (EU)</td>\n",
       "      <td>31111</td>\n",
       "      <td>23045</td>\n",
       "    </tr>\n",
       "  </tbody>\n",
       "</table>\n",
       "<p>142360 rows × 11 columns</p>\n",
       "</div>"
      ],
      "text/plain": [
       "        Year  Month Country                         City  SH4 Code  \\\n",
       "0       2016      1  France            Águas Mornas - SC       303   \n",
       "1       2016      1  France            Águas Mornas - SC       303   \n",
       "2       2016      1  France            Águas Mornas - SC       304   \n",
       "3       2016      1  France            Águas Mornas - SC       304   \n",
       "4       2016      1  France                 Alfenas - MG       901   \n",
       "...      ...    ...     ...                          ...       ...   \n",
       "142355  2020     12  France                 Vinhedo - SP      8424   \n",
       "142356  2020     12  France  Vitória de Santo Antão - PE       714   \n",
       "142357  2020     12  France  Vitória de Santo Antão - PE       714   \n",
       "142358  2020     12  France                  Xapuri - AC      4409   \n",
       "142359  2020     12  France                  Xapuri - AC      4409   \n",
       "\n",
       "                                          SH4 Description  SH2 Code  \\\n",
       "0       Fish, frozen, excluding fish fillets and other...         3   \n",
       "1       Fish, frozen, excluding fish fillets and other...         3   \n",
       "2       Fish fillets and other fish meat (whether or n...         3   \n",
       "3       Fish fillets and other fish meat (whether or n...         3   \n",
       "4       Coffee, whether or not roasted or decaffeinate...         9   \n",
       "...                                                   ...       ...   \n",
       "142355  Mechanical appliances (whether or not hand-ope...        84   \n",
       "142356  Manioc, arrowroot, salep, Jerusalem artichokes...         7   \n",
       "142357  Manioc, arrowroot, salep, Jerusalem artichokes...         7   \n",
       "142358  Wood (including strips and friezes for parquet...        44   \n",
       "142359  Wood (including strips and friezes for parquet...        44   \n",
       "\n",
       "                                          SH2 Description  \\\n",
       "0       Fish and crustaceans, molluscs and other aquat...   \n",
       "1       Fish and crustaceans, molluscs and other aquat...   \n",
       "2       Fish and crustaceans, molluscs and other aquat...   \n",
       "3       Fish and crustaceans, molluscs and other aquat...   \n",
       "4                            Coffee, tea, maté and spices   \n",
       "...                                                   ...   \n",
       "142355  Nuclear reactors, boilers, machinery and mecha...   \n",
       "142356     Edible vegetables and certain roots and tubers   \n",
       "142357     Edible vegetables and certain roots and tubers   \n",
       "142358           Wood and articles of wood; wood charcoal   \n",
       "142359           Wood and articles of wood; wood charcoal   \n",
       "\n",
       "             Economic Block  US$ FOB  Net Weight  \n",
       "0                    Europe    79360       14150  \n",
       "1       European Union (EU)    79360       14150  \n",
       "2                    Europe    69412        9385  \n",
       "3       European Union (EU)    69412        9385  \n",
       "4                    Europe   180914       57600  \n",
       "...                     ...      ...         ...  \n",
       "142355  European Union (EU)     2316           4  \n",
       "142356               Europe    27060       26400  \n",
       "142357  European Union (EU)    27060       26400  \n",
       "142358               Europe    31111       23045  \n",
       "142359  European Union (EU)    31111       23045  \n",
       "\n",
       "[142360 rows x 11 columns]"
      ]
     },
     "metadata": {},
     "output_type": "display_data"
    }
   ],
   "source": [
    "import pandas as pd\n",
    "\n",
    "tabela = pd.read_csv(\"exportacoes_franca.csv\")\n",
    "display(tabela)"
   ]
  },
  {
   "attachments": {},
   "cell_type": "markdown",
   "id": "4ad76a65",
   "metadata": {},
   "source": [
    "###### Informações Gerais"
   ]
  },
  {
   "cell_type": "code",
   "execution_count": 2,
   "id": "cce34f4d",
   "metadata": {},
   "outputs": [
    {
     "name": "stdout",
     "output_type": "stream",
     "text": [
      "<class 'pandas.core.frame.DataFrame'>\n",
      "RangeIndex: 142360 entries, 0 to 142359\n",
      "Data columns (total 11 columns):\n",
      " #   Column           Non-Null Count   Dtype \n",
      "---  ------           --------------   ----- \n",
      " 0   Year             142360 non-null  int64 \n",
      " 1   Month            142360 non-null  int64 \n",
      " 2   Country          142360 non-null  object\n",
      " 3   City             142360 non-null  object\n",
      " 4   SH4 Code         142360 non-null  int64 \n",
      " 5   SH4 Description  142360 non-null  object\n",
      " 6   SH2 Code         142360 non-null  int64 \n",
      " 7   SH2 Description  142360 non-null  object\n",
      " 8   Economic Block   142360 non-null  object\n",
      " 9   US$ FOB          142360 non-null  int64 \n",
      " 10  Net Weight       142360 non-null  int64 \n",
      "dtypes: int64(6), object(5)\n",
      "memory usage: 11.9+ MB\n",
      "None\n"
     ]
    }
   ],
   "source": [
    "print(tabela.info())\n",
    "\n",
    "# display(tabela.describe())"
   ]
  },
  {
   "attachments": {},
   "cell_type": "markdown",
   "id": "2daa0fa9",
   "metadata": {},
   "source": [
    "###### Evolução das exportações para a França ao longo dos anos (US$)"
   ]
  },
  {
   "cell_type": "code",
   "execution_count": 5,
   "id": "f02fb7d6",
   "metadata": {},
   "outputs": [
    {
     "data": {
      "application/vnd.plotly.v1+json": {
       "config": {
        "plotlyServerURL": "https://plot.ly"
       },
       "data": [
        {
         "hovertemplate": "Year=%{x}<br>US$ FOB=%{y}<extra></extra>",
         "legendgroup": "",
         "line": {
          "color": "#636efa",
          "dash": "solid"
         },
         "marker": {
          "symbol": "circle"
         },
         "mode": "lines",
         "name": "",
         "orientation": "v",
         "showlegend": false,
         "type": "scatter",
         "x": [
          2016,
          2017,
          2018,
          2019,
          2020
         ],
         "xaxis": "x",
         "y": [
          4615500082,
          4448705456,
          5239424416,
          5218723612,
          3967594810
         ],
         "yaxis": "y"
        }
       ],
       "layout": {
        "legend": {
         "tracegroupgap": 0
        },
        "template": {
         "data": {
          "bar": [
           {
            "error_x": {
             "color": "#2a3f5f"
            },
            "error_y": {
             "color": "#2a3f5f"
            },
            "marker": {
             "line": {
              "color": "#E5ECF6",
              "width": 0.5
             },
             "pattern": {
              "fillmode": "overlay",
              "size": 10,
              "solidity": 0.2
             }
            },
            "type": "bar"
           }
          ],
          "barpolar": [
           {
            "marker": {
             "line": {
              "color": "#E5ECF6",
              "width": 0.5
             },
             "pattern": {
              "fillmode": "overlay",
              "size": 10,
              "solidity": 0.2
             }
            },
            "type": "barpolar"
           }
          ],
          "carpet": [
           {
            "aaxis": {
             "endlinecolor": "#2a3f5f",
             "gridcolor": "white",
             "linecolor": "white",
             "minorgridcolor": "white",
             "startlinecolor": "#2a3f5f"
            },
            "baxis": {
             "endlinecolor": "#2a3f5f",
             "gridcolor": "white",
             "linecolor": "white",
             "minorgridcolor": "white",
             "startlinecolor": "#2a3f5f"
            },
            "type": "carpet"
           }
          ],
          "choropleth": [
           {
            "colorbar": {
             "outlinewidth": 0,
             "ticks": ""
            },
            "type": "choropleth"
           }
          ],
          "contour": [
           {
            "colorbar": {
             "outlinewidth": 0,
             "ticks": ""
            },
            "colorscale": [
             [
              0,
              "#0d0887"
             ],
             [
              0.1111111111111111,
              "#46039f"
             ],
             [
              0.2222222222222222,
              "#7201a8"
             ],
             [
              0.3333333333333333,
              "#9c179e"
             ],
             [
              0.4444444444444444,
              "#bd3786"
             ],
             [
              0.5555555555555556,
              "#d8576b"
             ],
             [
              0.6666666666666666,
              "#ed7953"
             ],
             [
              0.7777777777777778,
              "#fb9f3a"
             ],
             [
              0.8888888888888888,
              "#fdca26"
             ],
             [
              1,
              "#f0f921"
             ]
            ],
            "type": "contour"
           }
          ],
          "contourcarpet": [
           {
            "colorbar": {
             "outlinewidth": 0,
             "ticks": ""
            },
            "type": "contourcarpet"
           }
          ],
          "heatmap": [
           {
            "colorbar": {
             "outlinewidth": 0,
             "ticks": ""
            },
            "colorscale": [
             [
              0,
              "#0d0887"
             ],
             [
              0.1111111111111111,
              "#46039f"
             ],
             [
              0.2222222222222222,
              "#7201a8"
             ],
             [
              0.3333333333333333,
              "#9c179e"
             ],
             [
              0.4444444444444444,
              "#bd3786"
             ],
             [
              0.5555555555555556,
              "#d8576b"
             ],
             [
              0.6666666666666666,
              "#ed7953"
             ],
             [
              0.7777777777777778,
              "#fb9f3a"
             ],
             [
              0.8888888888888888,
              "#fdca26"
             ],
             [
              1,
              "#f0f921"
             ]
            ],
            "type": "heatmap"
           }
          ],
          "heatmapgl": [
           {
            "colorbar": {
             "outlinewidth": 0,
             "ticks": ""
            },
            "colorscale": [
             [
              0,
              "#0d0887"
             ],
             [
              0.1111111111111111,
              "#46039f"
             ],
             [
              0.2222222222222222,
              "#7201a8"
             ],
             [
              0.3333333333333333,
              "#9c179e"
             ],
             [
              0.4444444444444444,
              "#bd3786"
             ],
             [
              0.5555555555555556,
              "#d8576b"
             ],
             [
              0.6666666666666666,
              "#ed7953"
             ],
             [
              0.7777777777777778,
              "#fb9f3a"
             ],
             [
              0.8888888888888888,
              "#fdca26"
             ],
             [
              1,
              "#f0f921"
             ]
            ],
            "type": "heatmapgl"
           }
          ],
          "histogram": [
           {
            "marker": {
             "pattern": {
              "fillmode": "overlay",
              "size": 10,
              "solidity": 0.2
             }
            },
            "type": "histogram"
           }
          ],
          "histogram2d": [
           {
            "colorbar": {
             "outlinewidth": 0,
             "ticks": ""
            },
            "colorscale": [
             [
              0,
              "#0d0887"
             ],
             [
              0.1111111111111111,
              "#46039f"
             ],
             [
              0.2222222222222222,
              "#7201a8"
             ],
             [
              0.3333333333333333,
              "#9c179e"
             ],
             [
              0.4444444444444444,
              "#bd3786"
             ],
             [
              0.5555555555555556,
              "#d8576b"
             ],
             [
              0.6666666666666666,
              "#ed7953"
             ],
             [
              0.7777777777777778,
              "#fb9f3a"
             ],
             [
              0.8888888888888888,
              "#fdca26"
             ],
             [
              1,
              "#f0f921"
             ]
            ],
            "type": "histogram2d"
           }
          ],
          "histogram2dcontour": [
           {
            "colorbar": {
             "outlinewidth": 0,
             "ticks": ""
            },
            "colorscale": [
             [
              0,
              "#0d0887"
             ],
             [
              0.1111111111111111,
              "#46039f"
             ],
             [
              0.2222222222222222,
              "#7201a8"
             ],
             [
              0.3333333333333333,
              "#9c179e"
             ],
             [
              0.4444444444444444,
              "#bd3786"
             ],
             [
              0.5555555555555556,
              "#d8576b"
             ],
             [
              0.6666666666666666,
              "#ed7953"
             ],
             [
              0.7777777777777778,
              "#fb9f3a"
             ],
             [
              0.8888888888888888,
              "#fdca26"
             ],
             [
              1,
              "#f0f921"
             ]
            ],
            "type": "histogram2dcontour"
           }
          ],
          "mesh3d": [
           {
            "colorbar": {
             "outlinewidth": 0,
             "ticks": ""
            },
            "type": "mesh3d"
           }
          ],
          "parcoords": [
           {
            "line": {
             "colorbar": {
              "outlinewidth": 0,
              "ticks": ""
             }
            },
            "type": "parcoords"
           }
          ],
          "pie": [
           {
            "automargin": true,
            "type": "pie"
           }
          ],
          "scatter": [
           {
            "fillpattern": {
             "fillmode": "overlay",
             "size": 10,
             "solidity": 0.2
            },
            "type": "scatter"
           }
          ],
          "scatter3d": [
           {
            "line": {
             "colorbar": {
              "outlinewidth": 0,
              "ticks": ""
             }
            },
            "marker": {
             "colorbar": {
              "outlinewidth": 0,
              "ticks": ""
             }
            },
            "type": "scatter3d"
           }
          ],
          "scattercarpet": [
           {
            "marker": {
             "colorbar": {
              "outlinewidth": 0,
              "ticks": ""
             }
            },
            "type": "scattercarpet"
           }
          ],
          "scattergeo": [
           {
            "marker": {
             "colorbar": {
              "outlinewidth": 0,
              "ticks": ""
             }
            },
            "type": "scattergeo"
           }
          ],
          "scattergl": [
           {
            "marker": {
             "colorbar": {
              "outlinewidth": 0,
              "ticks": ""
             }
            },
            "type": "scattergl"
           }
          ],
          "scattermapbox": [
           {
            "marker": {
             "colorbar": {
              "outlinewidth": 0,
              "ticks": ""
             }
            },
            "type": "scattermapbox"
           }
          ],
          "scatterpolar": [
           {
            "marker": {
             "colorbar": {
              "outlinewidth": 0,
              "ticks": ""
             }
            },
            "type": "scatterpolar"
           }
          ],
          "scatterpolargl": [
           {
            "marker": {
             "colorbar": {
              "outlinewidth": 0,
              "ticks": ""
             }
            },
            "type": "scatterpolargl"
           }
          ],
          "scatterternary": [
           {
            "marker": {
             "colorbar": {
              "outlinewidth": 0,
              "ticks": ""
             }
            },
            "type": "scatterternary"
           }
          ],
          "surface": [
           {
            "colorbar": {
             "outlinewidth": 0,
             "ticks": ""
            },
            "colorscale": [
             [
              0,
              "#0d0887"
             ],
             [
              0.1111111111111111,
              "#46039f"
             ],
             [
              0.2222222222222222,
              "#7201a8"
             ],
             [
              0.3333333333333333,
              "#9c179e"
             ],
             [
              0.4444444444444444,
              "#bd3786"
             ],
             [
              0.5555555555555556,
              "#d8576b"
             ],
             [
              0.6666666666666666,
              "#ed7953"
             ],
             [
              0.7777777777777778,
              "#fb9f3a"
             ],
             [
              0.8888888888888888,
              "#fdca26"
             ],
             [
              1,
              "#f0f921"
             ]
            ],
            "type": "surface"
           }
          ],
          "table": [
           {
            "cells": {
             "fill": {
              "color": "#EBF0F8"
             },
             "line": {
              "color": "white"
             }
            },
            "header": {
             "fill": {
              "color": "#C8D4E3"
             },
             "line": {
              "color": "white"
             }
            },
            "type": "table"
           }
          ]
         },
         "layout": {
          "annotationdefaults": {
           "arrowcolor": "#2a3f5f",
           "arrowhead": 0,
           "arrowwidth": 1
          },
          "autotypenumbers": "strict",
          "coloraxis": {
           "colorbar": {
            "outlinewidth": 0,
            "ticks": ""
           }
          },
          "colorscale": {
           "diverging": [
            [
             0,
             "#8e0152"
            ],
            [
             0.1,
             "#c51b7d"
            ],
            [
             0.2,
             "#de77ae"
            ],
            [
             0.3,
             "#f1b6da"
            ],
            [
             0.4,
             "#fde0ef"
            ],
            [
             0.5,
             "#f7f7f7"
            ],
            [
             0.6,
             "#e6f5d0"
            ],
            [
             0.7,
             "#b8e186"
            ],
            [
             0.8,
             "#7fbc41"
            ],
            [
             0.9,
             "#4d9221"
            ],
            [
             1,
             "#276419"
            ]
           ],
           "sequential": [
            [
             0,
             "#0d0887"
            ],
            [
             0.1111111111111111,
             "#46039f"
            ],
            [
             0.2222222222222222,
             "#7201a8"
            ],
            [
             0.3333333333333333,
             "#9c179e"
            ],
            [
             0.4444444444444444,
             "#bd3786"
            ],
            [
             0.5555555555555556,
             "#d8576b"
            ],
            [
             0.6666666666666666,
             "#ed7953"
            ],
            [
             0.7777777777777778,
             "#fb9f3a"
            ],
            [
             0.8888888888888888,
             "#fdca26"
            ],
            [
             1,
             "#f0f921"
            ]
           ],
           "sequentialminus": [
            [
             0,
             "#0d0887"
            ],
            [
             0.1111111111111111,
             "#46039f"
            ],
            [
             0.2222222222222222,
             "#7201a8"
            ],
            [
             0.3333333333333333,
             "#9c179e"
            ],
            [
             0.4444444444444444,
             "#bd3786"
            ],
            [
             0.5555555555555556,
             "#d8576b"
            ],
            [
             0.6666666666666666,
             "#ed7953"
            ],
            [
             0.7777777777777778,
             "#fb9f3a"
            ],
            [
             0.8888888888888888,
             "#fdca26"
            ],
            [
             1,
             "#f0f921"
            ]
           ]
          },
          "colorway": [
           "#636efa",
           "#EF553B",
           "#00cc96",
           "#ab63fa",
           "#FFA15A",
           "#19d3f3",
           "#FF6692",
           "#B6E880",
           "#FF97FF",
           "#FECB52"
          ],
          "font": {
           "color": "#2a3f5f"
          },
          "geo": {
           "bgcolor": "white",
           "lakecolor": "white",
           "landcolor": "#E5ECF6",
           "showlakes": true,
           "showland": true,
           "subunitcolor": "white"
          },
          "hoverlabel": {
           "align": "left"
          },
          "hovermode": "closest",
          "mapbox": {
           "style": "light"
          },
          "paper_bgcolor": "white",
          "plot_bgcolor": "#E5ECF6",
          "polar": {
           "angularaxis": {
            "gridcolor": "white",
            "linecolor": "white",
            "ticks": ""
           },
           "bgcolor": "#E5ECF6",
           "radialaxis": {
            "gridcolor": "white",
            "linecolor": "white",
            "ticks": ""
           }
          },
          "scene": {
           "xaxis": {
            "backgroundcolor": "#E5ECF6",
            "gridcolor": "white",
            "gridwidth": 2,
            "linecolor": "white",
            "showbackground": true,
            "ticks": "",
            "zerolinecolor": "white"
           },
           "yaxis": {
            "backgroundcolor": "#E5ECF6",
            "gridcolor": "white",
            "gridwidth": 2,
            "linecolor": "white",
            "showbackground": true,
            "ticks": "",
            "zerolinecolor": "white"
           },
           "zaxis": {
            "backgroundcolor": "#E5ECF6",
            "gridcolor": "white",
            "gridwidth": 2,
            "linecolor": "white",
            "showbackground": true,
            "ticks": "",
            "zerolinecolor": "white"
           }
          },
          "shapedefaults": {
           "line": {
            "color": "#2a3f5f"
           }
          },
          "ternary": {
           "aaxis": {
            "gridcolor": "white",
            "linecolor": "white",
            "ticks": ""
           },
           "baxis": {
            "gridcolor": "white",
            "linecolor": "white",
            "ticks": ""
           },
           "bgcolor": "#E5ECF6",
           "caxis": {
            "gridcolor": "white",
            "linecolor": "white",
            "ticks": ""
           }
          },
          "title": {
           "x": 0.05
          },
          "xaxis": {
           "automargin": true,
           "gridcolor": "white",
           "linecolor": "white",
           "ticks": "",
           "title": {
            "standoff": 15
           },
           "zerolinecolor": "white",
           "zerolinewidth": 2
          },
          "yaxis": {
           "automargin": true,
           "gridcolor": "white",
           "linecolor": "white",
           "ticks": "",
           "title": {
            "standoff": 15
           },
           "zerolinecolor": "white",
           "zerolinewidth": 2
          }
         }
        },
        "title": {
         "text": "Exportações da França por ano"
        },
        "xaxis": {
         "anchor": "y",
         "domain": [
          0,
          1
         ],
         "rangemode": "tozero",
         "title": {
          "text": "Year"
         },
         "type": "category"
        },
        "yaxis": {
         "anchor": "x",
         "domain": [
          0,
          1
         ],
         "title": {
          "text": "US$ FOB"
         }
        }
       }
      }
     },
     "metadata": {},
     "output_type": "display_data"
    },
    {
     "data": {
      "text/html": [
       "<div>\n",
       "<style scoped>\n",
       "    .dataframe tbody tr th:only-of-type {\n",
       "        vertical-align: middle;\n",
       "    }\n",
       "\n",
       "    .dataframe tbody tr th {\n",
       "        vertical-align: top;\n",
       "    }\n",
       "\n",
       "    .dataframe thead th {\n",
       "        text-align: right;\n",
       "    }\n",
       "</style>\n",
       "<table border=\"1\" class=\"dataframe\">\n",
       "  <thead>\n",
       "    <tr style=\"text-align: right;\">\n",
       "      <th></th>\n",
       "      <th>Year</th>\n",
       "      <th>US$ FOB</th>\n",
       "      <th>Net Weight</th>\n",
       "    </tr>\n",
       "  </thead>\n",
       "  <tbody>\n",
       "    <tr>\n",
       "      <th>0</th>\n",
       "      <td>2016</td>\n",
       "      <td>$ 4,615,500,082.00</td>\n",
       "      <td>21798116518</td>\n",
       "    </tr>\n",
       "    <tr>\n",
       "      <th>1</th>\n",
       "      <td>2017</td>\n",
       "      <td>$ 4,448,705,456.00</td>\n",
       "      <td>22556529252</td>\n",
       "    </tr>\n",
       "    <tr>\n",
       "      <th>2</th>\n",
       "      <td>2018</td>\n",
       "      <td>$ 5,239,424,416.00</td>\n",
       "      <td>20905240132</td>\n",
       "    </tr>\n",
       "    <tr>\n",
       "      <th>3</th>\n",
       "      <td>2019</td>\n",
       "      <td>$ 5,218,723,612.00</td>\n",
       "      <td>16412415350</td>\n",
       "    </tr>\n",
       "    <tr>\n",
       "      <th>4</th>\n",
       "      <td>2020</td>\n",
       "      <td>$ 3,967,594,810.00</td>\n",
       "      <td>10868888048</td>\n",
       "    </tr>\n",
       "  </tbody>\n",
       "</table>\n",
       "</div>"
      ],
      "text/plain": [
       "   Year             US$ FOB   Net Weight\n",
       "0  2016  $ 4,615,500,082.00  21798116518\n",
       "1  2017  $ 4,448,705,456.00  22556529252\n",
       "2  2018  $ 5,239,424,416.00  20905240132\n",
       "3  2019  $ 5,218,723,612.00  16412415350\n",
       "4  2020  $ 3,967,594,810.00  10868888048"
      ]
     },
     "metadata": {},
     "output_type": "display_data"
    }
   ],
   "source": [
    "# exportacao_ano = tabela.groupby([\"Year\", \"Month\"]).sum()\n",
    "exportacao_ano = tabela.groupby(\"Year\").sum()\n",
    "exportacao_ano = exportacao_ano[[\"US$ FOB\", \"Net Weight\"]]\n",
    "\n",
    "def formatacao(valor):\n",
    "    return f\"$ {valor:,.2f}\"\n",
    "\n",
    "import plotly.express as px\n",
    "\n",
    "exportacao_ano = exportacao_ano.reset_index()\n",
    "grafico = px.line(exportacao_ano, x=\"Year\", y=\"US$ FOB\", title=\"Exportações da França por ano\")\n",
    "grafico.update_xaxes(type=\"category\")\n",
    "grafico.update_xaxes(rangemode=\"tozero\")\n",
    "grafico.show()\n",
    "\n",
    "exportacao_ano[\"US$ FOB\"] = exportacao_ano[\"US$ FOB\"].map(formatacao)\n",
    "\n",
    "display(exportacao_ano)"
   ]
  },
  {
   "cell_type": "markdown",
   "id": "717e331d",
   "metadata": {},
   "source": [
    "### Quais os produtos mais exportados ao longo de todo o período?"
   ]
  },
  {
   "cell_type": "code",
   "execution_count": null,
   "id": "ba74c817",
   "metadata": {},
   "outputs": [],
   "source": []
  },
  {
   "cell_type": "markdown",
   "id": "6ce25d4d",
   "metadata": {},
   "source": [
    "### Em 2020 qual cidade mais exportou para a França?"
   ]
  },
  {
   "cell_type": "code",
   "execution_count": null,
   "id": "074fb7b8",
   "metadata": {},
   "outputs": [],
   "source": []
  },
  {
   "cell_type": "markdown",
   "id": "84fbbcf3",
   "metadata": {},
   "source": [
    "### O que as 2 maiores cidades exportaram tanto?"
   ]
  },
  {
   "cell_type": "code",
   "execution_count": null,
   "id": "12173e06",
   "metadata": {},
   "outputs": [],
   "source": []
  }
 ],
 "metadata": {
  "kernelspec": {
   "display_name": "Python 3 (ipykernel)",
   "language": "python",
   "name": "python3"
  },
  "language_info": {
   "codemirror_mode": {
    "name": "ipython",
    "version": 3
   },
   "file_extension": ".py",
   "mimetype": "text/x-python",
   "name": "python",
   "nbconvert_exporter": "python",
   "pygments_lexer": "ipython3",
   "version": "3.9.7"
  }
 },
 "nbformat": 4,
 "nbformat_minor": 5
}
